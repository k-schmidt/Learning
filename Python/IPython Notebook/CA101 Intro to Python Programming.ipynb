{
 "cells": [
  {
   "cell_type": "markdown",
   "metadata": {},
   "source": [
    "## CA101: Introduction to Python Programming\n",
    "### By: Kyle Schmidt\n",
    "\n",
    "#### In this tutorial we will install the Anaconda distribution of Python which is the easiest way in my opinion to jump right into Python programming. Then, we will learn about the data types and operators that Python uses followed by variables and collections, control flow, functions, and classes.\n",
    "\n",
    "\n",
    "\n",
    "##### Begin by navigating to the Anaconda website located [here.](http://docs.continuum.io/anaconda/install.html#id2) Navigate to the proper download for your OS and follow the instructions on the screen.\n",
    "\n",
    "##### Once you have the Anaconda Python distribution installed, navigate to the command line and type: 'conda update conda' to install the most up-to-date Python packages.\n",
    "\n",
    "##### Lets start programming!"
   ]
  },
  {
   "cell_type": "markdown",
   "metadata": {},
   "source": [
    "\n",
    "\n",
    "\n",
    "\n",
    "## Comments:\n",
    "\n",
    "### Comments are notes that programmers leave either for themselves or for someone else who is reading their code."
   ]
  }
 ],
 "metadata": {
  "kernelspec": {
   "display_name": "Python 2",
   "language": "python",
   "name": "python2"
  },
  "language_info": {
   "codemirror_mode": {
    "name": "ipython",
    "version": 2
   },
   "file_extension": ".py",
   "mimetype": "text/x-python",
   "name": "python",
   "nbconvert_exporter": "python",
   "pygments_lexer": "ipython2",
   "version": "2.7.9"
  }
 },
 "nbformat": 4,
 "nbformat_minor": 0
}
